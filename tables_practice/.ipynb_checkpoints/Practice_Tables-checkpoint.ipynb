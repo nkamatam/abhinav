{
 "cells": [
  {
   "cell_type": "code",
   "execution_count": 7,
   "metadata": {},
   "outputs": [
    {
     "name": "stdin",
     "output_type": "stream",
     "text": [
      "19 x 8 =  152\n",
      "19 x 18 =  342\n",
      "19 x 12 =  228\n",
      "19 x 14 =  266\n",
      "19 x 2 =  38\n",
      "19 x 7 =  133\n",
      "19 x 5 =  90\n",
      "19 x 16 =  304\n",
      "19 x 15 =  285\n",
      "19 x 17 =  323\n",
      "19 x 13 =  247\n",
      "19 x 19 =  361\n",
      "19 x 1 =  19\n",
      "19 x 20 =  380\n",
      "19 x 9 =  171\n",
      "19 x 10 =  190\n",
      "19 x 6 =  124\n",
      "19 x 11 =  209\n",
      "19 x 3 =  247\n",
      "19 x 4 =  76\n"
     ]
    },
    {
     "name": "stdout",
     "output_type": "stream",
     "text": [
      "-1586526592.9292188\n"
     ]
    }
   ],
   "source": [
    "import random as rd\n",
    "import datetime\n",
    "import time\n",
    "import pickle\n",
    "start = time.time()\n",
    "\n",
    "wrong_filename = \"wrong_file\"+str(start).split(\".\")[1]\n",
    "complete_filename = \"complete_file\"+str(start).split(\".\")[1]\n",
    "\n",
    "\n",
    "list_pending =  [tuple([i,j]) for i in [19] for j in range(1,21)] \n",
    "\n",
    "dict_complete = {}\n",
    "dict_wrong = {}\n",
    "\n",
    "try:\n",
    "    while len(list_pending) > 0:\n",
    "        tup = rd.choice(list_pending)\n",
    "        start_item = time.time()\n",
    "        try:\n",
    "            ans = int(input(\"{} x {} = \".format(tup[0],tup[1])))\n",
    "        except:\n",
    "            ans = int(input(\"{} x {} = \".format(tup[0],tup[1])))\n",
    "        total_time = time.time() - start_item\n",
    "        \n",
    "        if ans == tup[0] * tup[1]:\n",
    "            list_pending.remove(tup)\n",
    "            dict_complete[tup] = total_time\n",
    "            f = open(complete_filename+\".pkl\",\"wb\")\n",
    "            pickle.dump(dict_complete,f)\n",
    "            f.close()\n",
    "\n",
    "        else:\n",
    "            list_pending.remove(tup)\n",
    "            dict_wrong[tup] = total_time\n",
    "            f = open(wrong_filename+\".pkl\",\"wb\")\n",
    "            pickle.dump(dict_wrong,f)\n",
    "            f.close()\n",
    "    # your code here    \n",
    "    print(time.process_time() - start)\n",
    "\n",
    "    print(\"Total items were : \",len(list_pending) + len(dict_wrong) + len(dict_complete))\n",
    "    print(\"Total Wrongs : \",len(dict_wrong))\n",
    "    print(\"Total Corrects :\",len(dict_complete))\n",
    "    print(\"Total time is : \")\n",
    "    # your code here    \n",
    "    print(time.time() - start)\n",
    "    print (\"========== complete===========\")\n",
    "    print(dict_complete)\n",
    "    print (\"========== wrong===========\")\n",
    "    print(dict_wrong)\n",
    "    \n",
    "except:\n",
    "    \n",
    "    print(\"Total items were : \",len(list_pending) + len(dict_wrong) + len(dict_complete))\n",
    "    print(\"Total Wrongs : \",len(dict_wrong))\n",
    "    print(\"Total Corrects :\",len(dict_complete))\n",
    "    print(\"Total time is : \")\n",
    "    # your code here    \n",
    "    print(time.time() - start)\n",
    "    print (\"========== complete===========\")\n",
    "    print(dict_complete)\n",
    "    print (\"========== wrong===========\")\n",
    "    print(dict_wrong)\n",
    "    "
   ]
  },
  {
   "cell_type": "code",
   "execution_count": 13,
   "metadata": {},
   "outputs": [
    {
     "name": "stdout",
     "output_type": "stream",
     "text": [
      "[]\n"
     ]
    }
   ],
   "source": [
    "print(list_wrong)"
   ]
  },
  {
   "cell_type": "code",
   "execution_count": 12,
   "metadata": {},
   "outputs": [
    {
     "name": "stdout",
     "output_type": "stream",
     "text": [
      "==========wrong============\n",
      "{(19, 5): 20.350205659866333, (19, 6): 7.955923557281494, (19, 3): 3.3467912673950195}\n",
      "==========complete============\n",
      "(19, 1)  :: 2.34220552444458\n",
      "(19, 10)  :: 2.6537699699401855\n",
      "(19, 20)  :: 3.6983840465545654\n",
      "(19, 13)  :: 3.9159586429595947\n",
      "(19, 2)  :: 4.502947807312012\n",
      "(19, 17)  :: 6.9534289836883545\n",
      "(19, 18)  :: 8.178672313690186\n",
      "(19, 8)  :: 8.85753607749939\n",
      "(19, 15)  :: 10.089978694915771\n",
      "(19, 11)  :: 11.100813150405884\n",
      "(19, 9)  :: 13.210081577301025\n",
      "(19, 4)  :: 14.312512159347534\n",
      "(19, 19)  :: 16.63931679725647\n",
      "(19, 16)  :: 18.952693223953247\n",
      "(19, 12)  :: 19.598127841949463\n",
      "(19, 7)  :: 21.893372297286987\n",
      "(19, 14)  :: 38.709208965301514\n"
     ]
    }
   ],
   "source": [
    "print(\"==========wrong============\")\n",
    "with open('wrong.pkl', 'rb') as f:\n",
    "    wrong_data = pickle.load(f)\n",
    "print (wrong_data)\n",
    "\n",
    "print(\"==========complete============\")\n",
    "\n",
    "with open('complete.pkl', 'rb') as f:\n",
    "    complete_data = pickle.load(f)\n",
    "    \n",
    "# Create a list of tuples sorted by index 1 i.e. value field     \n",
    "listofTuples = sorted(complete_data.items() ,  key=lambda x: x[1])\n",
    "# Iterate over the sorted sequence\n",
    "for elem in listofTuples :\n",
    "    print(elem[0] , \" ::\" , elem[1] )\n",
    "\n"
   ]
  },
  {
   "cell_type": "code",
   "execution_count": null,
   "metadata": {},
   "outputs": [],
   "source": []
  }
 ],
 "metadata": {
  "kernelspec": {
   "display_name": "Python 3",
   "language": "python",
   "name": "python3"
  },
  "language_info": {
   "codemirror_mode": {
    "name": "ipython",
    "version": 3
   },
   "file_extension": ".py",
   "mimetype": "text/x-python",
   "name": "python",
   "nbconvert_exporter": "python",
   "pygments_lexer": "ipython3",
   "version": "3.7.6"
  }
 },
 "nbformat": 4,
 "nbformat_minor": 4
}
