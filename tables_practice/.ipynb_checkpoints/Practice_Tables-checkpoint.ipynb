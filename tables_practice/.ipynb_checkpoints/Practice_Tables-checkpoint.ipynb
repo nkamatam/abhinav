{
 "cells": [
  {
   "cell_type": "code",
   "execution_count": 2,
   "metadata": {},
   "outputs": [
    {
     "name": "stdout",
     "output_type": "stream",
     "text": [
      "[18, 17, 15, 9, 13]\n"
     ]
    },
    {
     "name": "stdin",
     "output_type": "stream",
     "text": [
      "15 x 5 =  asd\n",
      "15 x 5 =  \n"
     ]
    },
    {
     "name": "stdout",
     "output_type": "stream",
     "text": [
      "Total items were :  100\n",
      "Total Wrongs :  0\n",
      "Total Corrects : 0\n",
      "Total time is : \n",
      "7.291874647140503\n",
      "==========wrong============\n"
     ]
    },
    {
     "ename": "FileNotFoundError",
     "evalue": "[Errno 2] No such file or directory: 'wrong_file_71143.pkl'",
     "output_type": "error",
     "traceback": [
      "\u001b[0;31m---------------------------------------------------------------------------\u001b[0m",
      "\u001b[0;31mValueError\u001b[0m                                Traceback (most recent call last)",
      "\u001b[0;32m<ipython-input-2-8d4821075884>\u001b[0m in \u001b[0;36m<module>\u001b[0;34m\u001b[0m\n\u001b[1;32m     44\u001b[0m         \u001b[0;32mtry\u001b[0m\u001b[0;34m:\u001b[0m\u001b[0;34m\u001b[0m\u001b[0;34m\u001b[0m\u001b[0m\n\u001b[0;32m---> 45\u001b[0;31m             \u001b[0mans\u001b[0m \u001b[0;34m=\u001b[0m \u001b[0mint\u001b[0m\u001b[0;34m(\u001b[0m\u001b[0minput\u001b[0m\u001b[0;34m(\u001b[0m\u001b[0;34m\"{} x {} = \"\u001b[0m\u001b[0;34m.\u001b[0m\u001b[0mformat\u001b[0m\u001b[0;34m(\u001b[0m\u001b[0mtup\u001b[0m\u001b[0;34m[\u001b[0m\u001b[0;36m0\u001b[0m\u001b[0;34m]\u001b[0m\u001b[0;34m,\u001b[0m\u001b[0mtup\u001b[0m\u001b[0;34m[\u001b[0m\u001b[0;36m1\u001b[0m\u001b[0;34m]\u001b[0m\u001b[0;34m)\u001b[0m\u001b[0;34m)\u001b[0m\u001b[0;34m)\u001b[0m\u001b[0;34m\u001b[0m\u001b[0;34m\u001b[0m\u001b[0m\n\u001b[0m\u001b[1;32m     46\u001b[0m         \u001b[0;32mexcept\u001b[0m\u001b[0;34m:\u001b[0m\u001b[0;34m\u001b[0m\u001b[0;34m\u001b[0m\u001b[0m\n",
      "\u001b[0;31mValueError\u001b[0m: invalid literal for int() with base 10: 'asd'",
      "\nDuring handling of the above exception, another exception occurred:\n",
      "\u001b[0;31mValueError\u001b[0m                                Traceback (most recent call last)",
      "\u001b[0;32m<ipython-input-2-8d4821075884>\u001b[0m in \u001b[0;36m<module>\u001b[0;34m\u001b[0m\n\u001b[1;32m     46\u001b[0m         \u001b[0;32mexcept\u001b[0m\u001b[0;34m:\u001b[0m\u001b[0;34m\u001b[0m\u001b[0;34m\u001b[0m\u001b[0m\n\u001b[0;32m---> 47\u001b[0;31m             \u001b[0mans\u001b[0m \u001b[0;34m=\u001b[0m \u001b[0mint\u001b[0m\u001b[0;34m(\u001b[0m\u001b[0minput\u001b[0m\u001b[0;34m(\u001b[0m\u001b[0;34m\"{} x {} = \"\u001b[0m\u001b[0;34m.\u001b[0m\u001b[0mformat\u001b[0m\u001b[0;34m(\u001b[0m\u001b[0mtup\u001b[0m\u001b[0;34m[\u001b[0m\u001b[0;36m0\u001b[0m\u001b[0;34m]\u001b[0m\u001b[0;34m,\u001b[0m\u001b[0mtup\u001b[0m\u001b[0;34m[\u001b[0m\u001b[0;36m1\u001b[0m\u001b[0;34m]\u001b[0m\u001b[0;34m)\u001b[0m\u001b[0;34m)\u001b[0m\u001b[0;34m)\u001b[0m\u001b[0;34m\u001b[0m\u001b[0;34m\u001b[0m\u001b[0m\n\u001b[0m\u001b[1;32m     48\u001b[0m         \u001b[0mtotal_time\u001b[0m \u001b[0;34m=\u001b[0m \u001b[0mtime\u001b[0m\u001b[0;34m.\u001b[0m\u001b[0mtime\u001b[0m\u001b[0;34m(\u001b[0m\u001b[0;34m)\u001b[0m \u001b[0;34m-\u001b[0m \u001b[0mstart_item\u001b[0m\u001b[0;34m\u001b[0m\u001b[0;34m\u001b[0m\u001b[0m\n",
      "\u001b[0;31mValueError\u001b[0m: invalid literal for int() with base 10: ''",
      "\nDuring handling of the above exception, another exception occurred:\n",
      "\u001b[0;31mFileNotFoundError\u001b[0m                         Traceback (most recent call last)",
      "\u001b[0;32m<ipython-input-2-8d4821075884>\u001b[0m in \u001b[0;36m<module>\u001b[0;34m\u001b[0m\n\u001b[1;32m     80\u001b[0m     \u001b[0;31m# your code here\u001b[0m\u001b[0;34m\u001b[0m\u001b[0;34m\u001b[0m\u001b[0;34m\u001b[0m\u001b[0m\n\u001b[1;32m     81\u001b[0m     \u001b[0mprint\u001b[0m\u001b[0;34m(\u001b[0m\u001b[0mtime\u001b[0m\u001b[0;34m.\u001b[0m\u001b[0mtime\u001b[0m\u001b[0;34m(\u001b[0m\u001b[0;34m)\u001b[0m \u001b[0;34m-\u001b[0m \u001b[0mstart\u001b[0m\u001b[0;34m)\u001b[0m\u001b[0;34m\u001b[0m\u001b[0;34m\u001b[0m\u001b[0m\n\u001b[0;32m---> 82\u001b[0;31m     \u001b[0mprint_outfiles\u001b[0m\u001b[0;34m(\u001b[0m\u001b[0mwrong_filename\u001b[0m\u001b[0;34m,\u001b[0m \u001b[0mcomplete_filename\u001b[0m\u001b[0;34m)\u001b[0m\u001b[0;34m\u001b[0m\u001b[0;34m\u001b[0m\u001b[0m\n\u001b[0m",
      "\u001b[0;32m<ipython-input-2-8d4821075884>\u001b[0m in \u001b[0;36mprint_outfiles\u001b[0;34m(wrong_file, complete_file)\u001b[0m\n\u001b[1;32m      7\u001b[0m \u001b[0;32mdef\u001b[0m \u001b[0mprint_outfiles\u001b[0m\u001b[0;34m(\u001b[0m\u001b[0mwrong_file\u001b[0m\u001b[0;34m,\u001b[0m \u001b[0mcomplete_file\u001b[0m\u001b[0;34m)\u001b[0m\u001b[0;34m:\u001b[0m\u001b[0;34m\u001b[0m\u001b[0;34m\u001b[0m\u001b[0m\n\u001b[1;32m      8\u001b[0m     \u001b[0mprint\u001b[0m\u001b[0;34m(\u001b[0m\u001b[0;34m\"==========wrong============\"\u001b[0m\u001b[0;34m)\u001b[0m\u001b[0;34m\u001b[0m\u001b[0;34m\u001b[0m\u001b[0m\n\u001b[0;32m----> 9\u001b[0;31m     \u001b[0;32mwith\u001b[0m \u001b[0mopen\u001b[0m\u001b[0;34m(\u001b[0m\u001b[0mwrong_file\u001b[0m\u001b[0;34m,\u001b[0m \u001b[0;34m'rb'\u001b[0m\u001b[0;34m)\u001b[0m \u001b[0;32mas\u001b[0m \u001b[0mf\u001b[0m\u001b[0;34m:\u001b[0m\u001b[0;34m\u001b[0m\u001b[0;34m\u001b[0m\u001b[0m\n\u001b[0m\u001b[1;32m     10\u001b[0m         \u001b[0mwrong_data\u001b[0m \u001b[0;34m=\u001b[0m \u001b[0mpickle\u001b[0m\u001b[0;34m.\u001b[0m\u001b[0mload\u001b[0m\u001b[0;34m(\u001b[0m\u001b[0mf\u001b[0m\u001b[0;34m)\u001b[0m\u001b[0;34m\u001b[0m\u001b[0;34m\u001b[0m\u001b[0m\n\u001b[1;32m     11\u001b[0m \u001b[0;34m\u001b[0m\u001b[0m\n",
      "\u001b[0;31mFileNotFoundError\u001b[0m: [Errno 2] No such file or directory: 'wrong_file_71143.pkl'"
     ]
    }
   ],
   "source": [
    "import random as rd\n",
    "import datetime\n",
    "import time\n",
    "import pickle\n",
    "start = time.time()\n",
    "\n",
    "def print_outfiles(wrong_file, complete_file):\n",
    "    print(\"==========wrong============\")\n",
    "    with open(wrong_file, 'rb') as f:\n",
    "        wrong_data = pickle.load(f)\n",
    "\n",
    "    # Create a list of tuples sorted by index 1 i.e. value field     \n",
    "    listofTuples = sorted(wrong_data.items() ,  key=lambda x: x[1],reverse=True)\n",
    "    # Iterate over the sorted sequence\n",
    "    for elem in listofTuples :\n",
    "        print(elem[0] , \" ::\" , elem[1] )\n",
    "        \n",
    "    print(\"==========complete============\")\n",
    "\n",
    "    with open(complete_file, 'rb') as f:\n",
    "        complete_data = pickle.load(f)\n",
    "\n",
    "    # Create a list of tuples sorted by index 1 i.e. value field     \n",
    "    listofTuples = sorted(complete_data.items() ,  key=lambda x: x[1],reverse=True)\n",
    "    # Iterate over the sorted sequence\n",
    "    for elem in listofTuples :\n",
    "        print(elem[0] , \" ::\" , elem[1] )\n",
    "\n",
    "\n",
    "wrong_filename = \"wrong_file_\"+str(start).split(\".\")[1]+\".pkl\"\n",
    "complete_filename = \"complete_file_\"+str(start).split(\".\")[1]+\".pkl\"\n",
    "number_list = rd.sample([6,7,8,9,12,13,14,15,16,17,18,19],5)\n",
    "print(number_list)\n",
    "\n",
    "list_pending =  [tuple([i,j]) for i in number_list for j in range(1,21)] \n",
    "\n",
    "dict_complete = {}\n",
    "dict_wrong = {}\n",
    "\n",
    "try:\n",
    "    while len(list_pending) > 0:\n",
    "        tup = rd.choice(list_pending)\n",
    "        start_item = time.time()\n",
    "        try:\n",
    "            ans = int(input(\"{} x {} = \".format(tup[0],tup[1])))\n",
    "        except:\n",
    "            ans = int(input(\"{} x {} = \".format(tup[0],tup[1])))\n",
    "        total_time = time.time() - start_item\n",
    "        \n",
    "        if ans == tup[0] * tup[1]:\n",
    "            list_pending.remove(tup)\n",
    "            dict_complete[tup] = total_time\n",
    "            f = open(complete_filename,\"wb\")\n",
    "            pickle.dump(dict_complete,f)\n",
    "            f.close()\n",
    "\n",
    "        else:\n",
    "            list_pending.remove(tup)\n",
    "            dict_wrong[tup] = total_time\n",
    "            f = open(wrong_filename,\"wb\")\n",
    "            pickle.dump(dict_wrong,f)\n",
    "            f.close()\n",
    "    # your code here    \n",
    "    print(time.process_time() - start)\n",
    "\n",
    "    print(\"Total items were : \",len(list_pending) + len(dict_wrong) + len(dict_complete))\n",
    "    print(\"Total Wrongs : \",len(dict_wrong))\n",
    "    print(\"Total Corrects :\",len(dict_complete))\n",
    "    print(\"Total time is : \")\n",
    "    # your code here    \n",
    "    print(time.time() - start)\n",
    "    print_outfiles(wrong_filename, complete_filename)\n",
    "    \n",
    "except:\n",
    "    \n",
    "    print(\"Total items were : \",len(list_pending) + len(dict_wrong) + len(dict_complete))\n",
    "    print(\"Total Wrongs : \",len(dict_wrong))\n",
    "    print(\"Total Corrects :\",len(dict_complete))\n",
    "    print(\"Total time is : \")\n",
    "    # your code here    \n",
    "    print(time.time() - start)\n",
    "    print_outfiles(wrong_filename, complete_filename)    "
   ]
  },
  {
   "cell_type": "code",
   "execution_count": null,
   "metadata": {},
   "outputs": [],
   "source": [
    "print(list_wrong)"
   ]
  },
  {
   "cell_type": "code",
   "execution_count": null,
   "metadata": {},
   "outputs": [],
   "source": [
    "print(\"==========wrong============\")\n",
    "with open('wrong.pkl', 'rb') as f:\n",
    "    wrong_data = pickle.load(f)\n",
    "print (wrong_data)\n",
    "\n",
    "print(\"==========complete============\")\n",
    "\n",
    "with open('complete.pkl', 'rb') as f:\n",
    "    complete_data = pickle.load(f)\n",
    "    \n",
    "# Create a list of tuples sorted by index 1 i.e. value field     \n",
    "listofTuples = sorted(complete_data.items() ,  key=lambda x: x[1])\n",
    "# Iterate over the sorted sequence\n",
    "for elem in listofTuples :\n",
    "    print(elem[0] , \" ::\" , elem[1] )\n",
    "\n"
   ]
  },
  {
   "cell_type": "code",
   "execution_count": null,
   "metadata": {},
   "outputs": [],
   "source": []
  }
 ],
 "metadata": {
  "kernelspec": {
   "display_name": "Python 3",
   "language": "python",
   "name": "python3"
  },
  "language_info": {
   "codemirror_mode": {
    "name": "ipython",
    "version": 3
   },
   "file_extension": ".py",
   "mimetype": "text/x-python",
   "name": "python",
   "nbconvert_exporter": "python",
   "pygments_lexer": "ipython3",
   "version": "3.7.6"
  }
 },
 "nbformat": 4,
 "nbformat_minor": 4
}
