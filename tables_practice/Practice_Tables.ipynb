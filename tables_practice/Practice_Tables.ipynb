{
 "cells": [
  {
   "cell_type": "code",
   "execution_count": null,
   "metadata": {},
   "outputs": [
    {
     "name": "stdout",
     "output_type": "stream",
     "text": [
      "[14, 12, 18, 6, 19, 17, 9]\n"
     ]
    },
    {
     "name": "stdin",
     "output_type": "stream",
     "text": [
      "9 x 6 =  54\n",
      "9 x 18 =  162\n",
      "9 x 14 =  126\n",
      "9 x 7 =  63\n",
      "14 x 18 =  252\n",
      "12 x 13 =  156\n",
      "6 x 16 =  144\n"
     ]
    }
   ],
   "source": [
    "import random as rd\n",
    "import datetime\n",
    "import time\n",
    "import pickle\n",
    "start = time.time()\n",
    "\n",
    "def print_outfiles(wrong_file, complete_file):\n",
    "    if len(dict_wrong) > 0 :\n",
    "        print(\"==========wrong============\")\n",
    "        with open(wrong_file, 'rb') as f:\n",
    "            wrong_data = pickle.load(f)\n",
    "\n",
    "        # Create a list of tuples sorted by index 1 i.e. value field     \n",
    "        listofTuples = sorted(wrong_data.items() ,  key=lambda x: x[1],reverse=True)\n",
    "        # Iterate over the sorted sequence\n",
    "        for elem in listofTuples :\n",
    "            print(elem[0] , \" ::\" , elem[1] )\n",
    "    else: \n",
    "        print(\"==========WRONG============\")\n",
    "        print(\"\\t No mistakes!!!\")\n",
    "        \n",
    "    print(\"==========complete============\")\n",
    "\n",
    "    with open(complete_file, 'rb') as f:\n",
    "        complete_data = pickle.load(f)\n",
    "\n",
    "    # Create a list of tuples sorted by index 1 i.e. value field     \n",
    "    listofTuples = sorted(complete_data.items() ,  key=lambda x: x[1],reverse=True)\n",
    "    # Iterate over the sorted sequence\n",
    "    for elem in listofTuples :\n",
    "        print(elem[0] , \" ::\" , elem[1] )\n",
    "\n",
    "\n",
    "wrong_filename = \"wrong_file_\"+str(start).split(\".\")[1]+\".pkl\"\n",
    "complete_filename = \"complete_file_\"+str(start).split(\".\")[1]+\".pkl\"\n",
    "#===============================================================Changeables\n",
    "number_of_questions = 70 \n",
    "\n",
    "tough_number_list = [6,7,8,9,12,13,14,15,16,17,18,19]\n",
    "\n",
    "number_list = rd.sample(tough_number_list,7)\n",
    "#===============================================================/Changables\n",
    "print(number_list)\n",
    "\n",
    "list_pending =  [tuple([i,j]) for i in number_list for j in tough_number_list] \n",
    "list_pending = rd.sample(list_pending,number_of_questions)\n",
    "\n",
    "dict_complete = {}\n",
    "dict_wrong = {}\n",
    "\n",
    "try:\n",
    "    while len(list_pending) > 0:\n",
    "        tup = rd.choice(list_pending)\n",
    "        start_item = time.time()\n",
    "        try:\n",
    "            ans = int(input(\"{} x {} = \".format(tup[0],tup[1])))\n",
    "        except:\n",
    "            ans = int(input(\"{} x {} = \".format(tup[0],tup[1])))\n",
    "        total_time = time.time() - start_item\n",
    "        \n",
    "        if ans == tup[0] * tup[1]:\n",
    "            list_pending.remove(tup)\n",
    "            dict_complete[tup] = total_time\n",
    "            f = open(complete_filename,\"wb\")\n",
    "            pickle.dump(dict_complete,f)\n",
    "            f.close()\n",
    "\n",
    "        else:\n",
    "            list_pending.remove(tup)\n",
    "            dict_wrong[tup] = total_time\n",
    "            f = open(wrong_filename,\"wb\")\n",
    "            pickle.dump(dict_wrong,f)\n",
    "            f.close()\n",
    "    # your code here    \n",
    "    print(time.process_time() - start)\n",
    "\n",
    "    print(\"Total items were : \",number_of_questions)\n",
    "    print(\"Total Wrongs : \",len(dict_wrong))\n",
    "    print(\"Total Corrects :\",len(dict_complete))\n",
    "    print(\"Total time is : \")\n",
    "    # your code here    \n",
    "    print(time.time() - start)\n",
    "    print_outfiles(wrong_filename, complete_filename)\n",
    "    \n",
    "except:\n",
    "    \n",
    "    print(\"Total items were : \",number_of_questions)\n",
    "    print(\"Total Wrongs : \",len(dict_wrong))\n",
    "    print(\"Total Corrects :\",len(dict_complete))\n",
    "    print(\"Total time is : \")\n",
    "    # your code here    \n",
    "    print(time.time() - start)\n",
    "    print_outfiles(wrong_filename, complete_filename)    "
   ]
  },
  {
   "cell_type": "code",
   "execution_count": null,
   "metadata": {},
   "outputs": [],
   "source": [
    "print(list_wrong)"
   ]
  },
  {
   "cell_type": "code",
   "execution_count": null,
   "metadata": {},
   "outputs": [],
   "source": [
    "print(\"==========wrong============\")\n",
    "with open('wrong.pkl', 'rb') as f:\n",
    "    wrong_data = pickle.load(f)\n",
    "print (wrong_data)\n",
    "\n",
    "print(\"==========complete============\")\n",
    "\n",
    "with open('complete.pkl', 'rb') as f:\n",
    "    complete_data = pickle.load(f)\n",
    "    \n",
    "# Create a list of tuples sorted by index 1 i.e. value field     \n",
    "listofTuples = sorted(complete_data.items() ,  key=lambda x: x[1])\n",
    "# Iterate over the sorted sequence\n",
    "for elem in listofTuples :\n",
    "    print(elem[0] , \" ::\" , elem[1] )\n",
    "\n"
   ]
  },
  {
   "cell_type": "code",
   "execution_count": null,
   "metadata": {},
   "outputs": [],
   "source": []
  }
 ],
 "metadata": {
  "kernelspec": {
   "display_name": "Python 3",
   "language": "python",
   "name": "python3"
  },
  "language_info": {
   "codemirror_mode": {
    "name": "ipython",
    "version": 3
   },
   "file_extension": ".py",
   "mimetype": "text/x-python",
   "name": "python",
   "nbconvert_exporter": "python",
   "pygments_lexer": "ipython3",
   "version": "3.7.6"
  }
 },
 "nbformat": 4,
 "nbformat_minor": 4
}
