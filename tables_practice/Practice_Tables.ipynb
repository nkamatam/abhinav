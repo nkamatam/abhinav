{
 "cells": [
  {
   "cell_type": "code",
   "execution_count": 2,
   "metadata": {},
   "outputs": [
    {
     "name": "stdin",
     "output_type": "stream",
     "text": [
      "19 x 20 =  380\n",
      "19 x 8 =  5\n",
      "19 x 11 =  5\n",
      "19 x 10 =  wer\n",
      "19 x 10 =  wer\n"
     ]
    },
    {
     "name": "stdout",
     "output_type": "stream",
     "text": [
      "Total items were :  20\n",
      "Total Wrongs :  2\n",
      "Total Corrects : 1\n",
      "Total time is : \n",
      "12.11750078201294\n",
      "==========wrong============\n",
      "(19, 8)  :: 3.211827278137207\n",
      "(19, 11)  :: 2.6822116374969482\n",
      "==========complete============\n",
      "(19, 20)  :: 2.6240217685699463\n"
     ]
    }
   ],
   "source": [
    "import random as rd\n",
    "import datetime\n",
    "import time\n",
    "import pickle\n",
    "start = time.time()\n",
    "\n",
    "def print_outfiles(wrong_file, complete_file):\n",
    "    print(\"==========wrong============\")\n",
    "    with open(wrong_file, 'rb') as f:\n",
    "        wrong_data = pickle.load(f)\n",
    "\n",
    "    # Create a list of tuples sorted by index 1 i.e. value field     \n",
    "    listofTuples = sorted(wrong_data.items() ,  key=lambda x: x[1],reverse=True)\n",
    "    # Iterate over the sorted sequence\n",
    "    for elem in listofTuples :\n",
    "        print(elem[0] , \" ::\" , elem[1] )\n",
    "        \n",
    "    print(\"==========complete============\")\n",
    "\n",
    "    with open(complete_file, 'rb') as f:\n",
    "        complete_data = pickle.load(f)\n",
    "\n",
    "    # Create a list of tuples sorted by index 1 i.e. value field     \n",
    "    listofTuples = sorted(complete_data.items() ,  key=lambda x: x[1],reverse=True)\n",
    "    # Iterate over the sorted sequence\n",
    "    for elem in listofTuples :\n",
    "        print(elem[0] , \" ::\" , elem[1] )\n",
    "\n",
    "\n",
    "wrong_filename = \"wrong_file_\"+str(start).split(\".\")[1]+\".pkl\"\n",
    "complete_filename = \"complete_file_\"+str(start).split(\".\")[1]+\".pkl\"\n",
    "\n",
    "\n",
    "list_pending =  [tuple([i,j]) for i in [19] for j in range(1,21)] \n",
    "\n",
    "dict_complete = {}\n",
    "dict_wrong = {}\n",
    "\n",
    "try:\n",
    "    while len(list_pending) > 0:\n",
    "        tup = rd.choice(list_pending)\n",
    "        start_item = time.time()\n",
    "        try:\n",
    "            ans = int(input(\"{} x {} = \".format(tup[0],tup[1])))\n",
    "        except:\n",
    "            ans = int(input(\"{} x {} = \".format(tup[0],tup[1])))\n",
    "        total_time = time.time() - start_item\n",
    "        \n",
    "        if ans == tup[0] * tup[1]:\n",
    "            list_pending.remove(tup)\n",
    "            dict_complete[tup] = total_time\n",
    "            f = open(complete_filename,\"wb\")\n",
    "            pickle.dump(dict_complete,f)\n",
    "            f.close()\n",
    "\n",
    "        else:\n",
    "            list_pending.remove(tup)\n",
    "            dict_wrong[tup] = total_time\n",
    "            f = open(wrong_filename,\"wb\")\n",
    "            pickle.dump(dict_wrong,f)\n",
    "            f.close()\n",
    "    # your code here    \n",
    "    print(time.process_time() - start)\n",
    "\n",
    "    print(\"Total items were : \",len(list_pending) + len(dict_wrong) + len(dict_complete))\n",
    "    print(\"Total Wrongs : \",len(dict_wrong))\n",
    "    print(\"Total Corrects :\",len(dict_complete))\n",
    "    print(\"Total time is : \")\n",
    "    # your code here    \n",
    "    print(time.time() - start)\n",
    "    print_outfiles(wrong_filename, complete_filename)\n",
    "    \n",
    "except:\n",
    "    \n",
    "    print(\"Total items were : \",len(list_pending) + len(dict_wrong) + len(dict_complete))\n",
    "    print(\"Total Wrongs : \",len(dict_wrong))\n",
    "    print(\"Total Corrects :\",len(dict_complete))\n",
    "    print(\"Total time is : \")\n",
    "    # your code here    \n",
    "    print(time.time() - start)\n",
    "    print_outfiles(wrong_filename, complete_filename)    "
   ]
  },
  {
   "cell_type": "code",
   "execution_count": null,
   "metadata": {},
   "outputs": [],
   "source": [
    "print(list_wrong)"
   ]
  },
  {
   "cell_type": "code",
   "execution_count": null,
   "metadata": {},
   "outputs": [],
   "source": [
    "print(\"==========wrong============\")\n",
    "with open('wrong.pkl', 'rb') as f:\n",
    "    wrong_data = pickle.load(f)\n",
    "print (wrong_data)\n",
    "\n",
    "print(\"==========complete============\")\n",
    "\n",
    "with open('complete.pkl', 'rb') as f:\n",
    "    complete_data = pickle.load(f)\n",
    "    \n",
    "# Create a list of tuples sorted by index 1 i.e. value field     \n",
    "listofTuples = sorted(complete_data.items() ,  key=lambda x: x[1])\n",
    "# Iterate over the sorted sequence\n",
    "for elem in listofTuples :\n",
    "    print(elem[0] , \" ::\" , elem[1] )\n",
    "\n"
   ]
  },
  {
   "cell_type": "code",
   "execution_count": null,
   "metadata": {},
   "outputs": [],
   "source": []
  }
 ],
 "metadata": {
  "kernelspec": {
   "display_name": "Python 3",
   "language": "python",
   "name": "python3"
  },
  "language_info": {
   "codemirror_mode": {
    "name": "ipython",
    "version": 3
   },
   "file_extension": ".py",
   "mimetype": "text/x-python",
   "name": "python",
   "nbconvert_exporter": "python",
   "pygments_lexer": "ipython3",
   "version": "3.7.6"
  }
 },
 "nbformat": 4,
 "nbformat_minor": 4
}
